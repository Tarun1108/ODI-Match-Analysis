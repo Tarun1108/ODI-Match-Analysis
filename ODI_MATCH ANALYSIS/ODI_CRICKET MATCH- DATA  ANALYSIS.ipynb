{
 "cells": [
  {
   "cell_type": "code",
   "execution_count": 1,
   "metadata": {},
   "outputs": [],
   "source": [
    "#import all the relevent libraries\n",
    "import pandas as pd\n",
    "import numpy as np\n",
    "import matplotlib.pyplot as plt\n",
    "import seaborn as sns"
   ]
  },
  {
   "cell_type": "code",
   "execution_count": 2,
   "metadata": {},
   "outputs": [],
   "source": [
    "# Reading the data sets.\n",
    "odi_cricket=pd.read_csv(\"./originalDataset.csv\")"
   ]
  },
  {
   "cell_type": "code",
   "execution_count": 3,
   "metadata": {},
   "outputs": [
    {
     "data": {
      "text/html": [
       "<div>\n",
       "<style scoped>\n",
       "    .dataframe tbody tr th:only-of-type {\n",
       "        vertical-align: middle;\n",
       "    }\n",
       "\n",
       "    .dataframe tbody tr th {\n",
       "        vertical-align: top;\n",
       "    }\n",
       "\n",
       "    .dataframe thead th {\n",
       "        text-align: right;\n",
       "    }\n",
       "</style>\n",
       "<table border=\"1\" class=\"dataframe\">\n",
       "  <thead>\n",
       "    <tr style=\"text-align: right;\">\n",
       "      <th></th>\n",
       "      <th>Scorecard</th>\n",
       "      <th>Team 1</th>\n",
       "      <th>Team 2</th>\n",
       "      <th>Winner</th>\n",
       "      <th>Margin</th>\n",
       "      <th>Ground</th>\n",
       "      <th>Match Date</th>\n",
       "    </tr>\n",
       "  </thead>\n",
       "  <tbody>\n",
       "    <tr>\n",
       "      <td>0</td>\n",
       "      <td>ODI # 1</td>\n",
       "      <td>Australia</td>\n",
       "      <td>England</td>\n",
       "      <td>Australia</td>\n",
       "      <td>5 wickets</td>\n",
       "      <td>Melbourne</td>\n",
       "      <td>Jan 5, 1971</td>\n",
       "    </tr>\n",
       "    <tr>\n",
       "      <td>1</td>\n",
       "      <td>ODI # 2</td>\n",
       "      <td>England</td>\n",
       "      <td>Australia</td>\n",
       "      <td>England</td>\n",
       "      <td>6 wickets</td>\n",
       "      <td>Manchester</td>\n",
       "      <td>Aug 24, 1972</td>\n",
       "    </tr>\n",
       "    <tr>\n",
       "      <td>2</td>\n",
       "      <td>ODI # 3</td>\n",
       "      <td>England</td>\n",
       "      <td>Australia</td>\n",
       "      <td>Australia</td>\n",
       "      <td>5 wickets</td>\n",
       "      <td>Lord's</td>\n",
       "      <td>Aug 26, 1972</td>\n",
       "    </tr>\n",
       "    <tr>\n",
       "      <td>3</td>\n",
       "      <td>ODI # 4</td>\n",
       "      <td>England</td>\n",
       "      <td>Australia</td>\n",
       "      <td>England</td>\n",
       "      <td>2 wickets</td>\n",
       "      <td>Birmingham</td>\n",
       "      <td>Aug 28, 1972</td>\n",
       "    </tr>\n",
       "    <tr>\n",
       "      <td>4</td>\n",
       "      <td>ODI # 5</td>\n",
       "      <td>New Zealand</td>\n",
       "      <td>Pakistan</td>\n",
       "      <td>New Zealand</td>\n",
       "      <td>22 runs</td>\n",
       "      <td>Christchurch</td>\n",
       "      <td>Feb 11, 1973</td>\n",
       "    </tr>\n",
       "  </tbody>\n",
       "</table>\n",
       "</div>"
      ],
      "text/plain": [
       "  Scorecard       Team 1     Team 2       Winner     Margin        Ground  \\\n",
       "0   ODI # 1    Australia    England    Australia  5 wickets     Melbourne   \n",
       "1   ODI # 2      England  Australia      England  6 wickets    Manchester   \n",
       "2   ODI # 3      England  Australia    Australia  5 wickets        Lord's   \n",
       "3   ODI # 4      England  Australia      England  2 wickets    Birmingham   \n",
       "4   ODI # 5  New Zealand   Pakistan  New Zealand    22 runs  Christchurch   \n",
       "\n",
       "     Match Date  \n",
       "0   Jan 5, 1971  \n",
       "1  Aug 24, 1972  \n",
       "2  Aug 26, 1972  \n",
       "3  Aug 28, 1972  \n",
       "4  Feb 11, 1973  "
      ]
     },
     "execution_count": 3,
     "metadata": {},
     "output_type": "execute_result"
    }
   ],
   "source": [
    "#looking the dataset head.\n",
    "odi_cricket.head()"
   ]
  },
  {
   "cell_type": "code",
   "execution_count": 4,
   "metadata": {},
   "outputs": [
    {
     "data": {
      "text/plain": [
       "Scorecard     object\n",
       "Team 1        object\n",
       "Team 2        object\n",
       "Winner        object\n",
       "Margin        object\n",
       "Ground        object\n",
       "Match Date    object\n",
       "dtype: object"
      ]
     },
     "execution_count": 4,
     "metadata": {},
     "output_type": "execute_result"
    }
   ],
   "source": [
    "#checking the datatype..\n",
    "odi_cricket.dtypes"
   ]
  },
  {
   "cell_type": "code",
   "execution_count": 5,
   "metadata": {},
   "outputs": [
    {
     "data": {
      "text/plain": [
       "Scorecard       0\n",
       "Team 1          0\n",
       "Team 2          0\n",
       "Winner          0\n",
       "Margin        179\n",
       "Ground          0\n",
       "Match Date      0\n",
       "dtype: int64"
      ]
     },
     "execution_count": 5,
     "metadata": {},
     "output_type": "execute_result"
    }
   ],
   "source": [
    "#lets view the null values..\n",
    "odi_cricket.isnull().sum()\n"
   ]
  },
  {
   "cell_type": "code",
   "execution_count": 6,
   "metadata": {},
   "outputs": [
    {
     "data": {
      "text/plain": [
       "Australia       555\n",
       "India           475\n",
       "Pakistan        466\n",
       "West Indies     380\n",
       "Sri Lanka       371\n",
       "South Africa    361\n",
       "England         343\n",
       "New Zealand     324\n",
       "Zimbabwe        129\n",
       "Bangladesh      105\n",
       "Ireland          51\n",
       "Kenya            42\n",
       "Afghanistan      42\n",
       "Scotland         31\n",
       "Netherlands      28\n",
       "Canada           17\n",
       "U.A.E.            9\n",
       "Bermuda           7\n",
       "Hong Kong         6\n",
       "P.N.G.            5\n",
       "Asia XI           4\n",
       "ICC World XI      1\n",
       "Africa XI         1\n",
       "Name: Winner, dtype: int64"
      ]
     },
     "execution_count": 6,
     "metadata": {},
     "output_type": "execute_result"
    }
   ],
   "source": [
    "# deleting the rows which have no results as analysis of it is unnecessary\n",
    "odi_cricket=odi_cricket[odi_cricket.Margin.str.contains(\"result\")==False]                \n",
    "odi_cricket.Winner.value_counts()"
   ]
  },
  {
   "cell_type": "code",
   "execution_count": 7,
   "metadata": {},
   "outputs": [
    {
     "name": "stderr",
     "output_type": "stream",
     "text": [
      "C:\\Users\\tarun\\Anaconda3\\lib\\site-packages\\ipykernel_launcher.py:3: FutureWarning: Sorting because non-concatenation axis is not aligned. A future version\n",
      "of pandas will change to not sort by default.\n",
      "\n",
      "To accept the future behavior, pass 'sort=False'.\n",
      "\n",
      "To retain the current behavior and silence the warning, pass 'sort=True'.\n",
      "\n",
      "  This is separate from the ipykernel package so we can avoid doing imports until\n"
     ]
    },
    {
     "data": {
      "text/plain": [
       "Index(['Team 1', 'Team 2', 'total'], dtype='object')"
      ]
     },
     "execution_count": 7,
     "metadata": {},
     "output_type": "execute_result"
    }
   ],
   "source": [
    "#Now we are looking  how many matches have each team played....\n",
    "group1=odi_cricket.groupby(\"Team 1\").size().rename(\"Team 1\")\n",
    "group2=odi_cricket.groupby(\"Team 2\").size().rename(\"Team 2\")\n",
    "total=pd.concat([group1,group2],axis=1).fillna(0)\n",
    "total[\"total\"]=total[\"Team 1\"]+total[\"Team 2\"]\n",
    "total.columns"
   ]
  },
  {
   "cell_type": "code",
   "execution_count": 8,
   "metadata": {},
   "outputs": [
    {
     "data": {
      "text/plain": [
       "Text(0.5, 1.0, 'ODI Matches Played by team')"
      ]
     },
     "execution_count": 8,
     "metadata": {},
     "output_type": "execute_result"
    },
    {
     "data": {
      "image/png": "[encoded data removed]",
      "text/plain": [
       "<Figure size 432x288 with 1 Axes>"
      ]
     },
     "metadata": {
      "needs_background": "light"
     },
     "output_type": "display_data"
    }
   ],
   "source": [
    "%matplotlib inline\n",
    "sns.barplot(x=total.index,y=total[\"total\"])\n",
    "plt.ylabel(\"Number of Matches\")\n",
    "plt.xlabel(\"Teams\")\n",
    "plt.yticks([100,200,300,400,500,600,700,800])\n",
    "plt.xticks(rotation=90)\n",
    "plt.title(\"ODI Matches Played by team\")"
   ]
  },
  {
   "cell_type": "code",
   "execution_count": 11,
   "metadata": {},
   "outputs": [
    {
     "name": "stderr",
     "output_type": "stream",
     "text": [
      "C:\\Users\\tarun\\Anaconda3\\lib\\site-packages\\ipykernel_launcher.py:4: FutureWarning: Sorting because non-concatenation axis is not aligned. A future version\n",
      "of pandas will change to not sort by default.\n",
      "\n",
      "To accept the future behavior, pass 'sort=False'.\n",
      "\n",
      "To retain the current behavior and silence the warning, pass 'sort=True'.\n",
      "\n",
      "  after removing the cwd from sys.path.\n"
     ]
    },
    {
     "data": {
      "text/html": [
       "<div>\n",
       "<style scoped>\n",
       "    .dataframe tbody tr th:only-of-type {\n",
       "        vertical-align: middle;\n",
       "    }\n",
       "\n",
       "    .dataframe tbody tr th {\n",
       "        vertical-align: top;\n",
       "    }\n",
       "\n",
       "    .dataframe thead th {\n",
       "        text-align: right;\n",
       "    }\n",
       "</style>\n",
       "<table border=\"1\" class=\"dataframe\">\n",
       "  <thead>\n",
       "    <tr style=\"text-align: right;\">\n",
       "      <th></th>\n",
       "      <th>Won</th>\n",
       "      <th>Lost</th>\n",
       "      <th>Win/Loss Ratio</th>\n",
       "    </tr>\n",
       "  </thead>\n",
       "  <tbody>\n",
       "    <tr>\n",
       "      <td>Afghanistan</td>\n",
       "      <td>42.0</td>\n",
       "      <td>39</td>\n",
       "      <td>1.076923</td>\n",
       "    </tr>\n",
       "    <tr>\n",
       "      <td>Africa XI</td>\n",
       "      <td>1.0</td>\n",
       "      <td>4</td>\n",
       "      <td>0.250000</td>\n",
       "    </tr>\n",
       "    <tr>\n",
       "      <td>Asia XI</td>\n",
       "      <td>4.0</td>\n",
       "      <td>2</td>\n",
       "      <td>2.000000</td>\n",
       "    </tr>\n",
       "    <tr>\n",
       "      <td>Australia</td>\n",
       "      <td>555.0</td>\n",
       "      <td>307</td>\n",
       "      <td>1.807818</td>\n",
       "    </tr>\n",
       "    <tr>\n",
       "      <td>Bangladesh</td>\n",
       "      <td>105.0</td>\n",
       "      <td>223</td>\n",
       "      <td>0.470852</td>\n",
       "    </tr>\n",
       "    <tr>\n",
       "      <td>Bermuda</td>\n",
       "      <td>7.0</td>\n",
       "      <td>28</td>\n",
       "      <td>0.250000</td>\n",
       "    </tr>\n",
       "    <tr>\n",
       "      <td>Canada</td>\n",
       "      <td>17.0</td>\n",
       "      <td>58</td>\n",
       "      <td>0.293103</td>\n",
       "    </tr>\n",
       "    <tr>\n",
       "      <td>East Africa</td>\n",
       "      <td>0.0</td>\n",
       "      <td>3</td>\n",
       "      <td>0.000000</td>\n",
       "    </tr>\n",
       "    <tr>\n",
       "      <td>England</td>\n",
       "      <td>343.0</td>\n",
       "      <td>321</td>\n",
       "      <td>1.068536</td>\n",
       "    </tr>\n",
       "    <tr>\n",
       "      <td>Hong Kong</td>\n",
       "      <td>6.0</td>\n",
       "      <td>11</td>\n",
       "      <td>0.545455</td>\n",
       "    </tr>\n",
       "    <tr>\n",
       "      <td>ICC World XI</td>\n",
       "      <td>1.0</td>\n",
       "      <td>3</td>\n",
       "      <td>0.333333</td>\n",
       "    </tr>\n",
       "    <tr>\n",
       "      <td>India</td>\n",
       "      <td>475.0</td>\n",
       "      <td>405</td>\n",
       "      <td>1.172840</td>\n",
       "    </tr>\n",
       "    <tr>\n",
       "      <td>Ireland</td>\n",
       "      <td>51.0</td>\n",
       "      <td>62</td>\n",
       "      <td>0.822581</td>\n",
       "    </tr>\n",
       "    <tr>\n",
       "      <td>Kenya</td>\n",
       "      <td>42.0</td>\n",
       "      <td>107</td>\n",
       "      <td>0.392523</td>\n",
       "    </tr>\n",
       "    <tr>\n",
       "      <td>Namibia</td>\n",
       "      <td>0.0</td>\n",
       "      <td>6</td>\n",
       "      <td>0.000000</td>\n",
       "    </tr>\n",
       "    <tr>\n",
       "      <td>Netherlands</td>\n",
       "      <td>28.0</td>\n",
       "      <td>44</td>\n",
       "      <td>0.636364</td>\n",
       "    </tr>\n",
       "    <tr>\n",
       "      <td>New Zealand</td>\n",
       "      <td>324.0</td>\n",
       "      <td>362</td>\n",
       "      <td>0.895028</td>\n",
       "    </tr>\n",
       "    <tr>\n",
       "      <td>P.N.G.</td>\n",
       "      <td>5.0</td>\n",
       "      <td>5</td>\n",
       "      <td>1.000000</td>\n",
       "    </tr>\n",
       "    <tr>\n",
       "      <td>Pakistan</td>\n",
       "      <td>466.0</td>\n",
       "      <td>388</td>\n",
       "      <td>1.201031</td>\n",
       "    </tr>\n",
       "    <tr>\n",
       "      <td>Scotland</td>\n",
       "      <td>31.0</td>\n",
       "      <td>56</td>\n",
       "      <td>0.553571</td>\n",
       "    </tr>\n",
       "    <tr>\n",
       "      <td>South Africa</td>\n",
       "      <td>361.0</td>\n",
       "      <td>200</td>\n",
       "      <td>1.805000</td>\n",
       "    </tr>\n",
       "    <tr>\n",
       "      <td>Sri Lanka</td>\n",
       "      <td>371.0</td>\n",
       "      <td>395</td>\n",
       "      <td>0.939241</td>\n",
       "    </tr>\n",
       "    <tr>\n",
       "      <td>U.A.E.</td>\n",
       "      <td>9.0</td>\n",
       "      <td>26</td>\n",
       "      <td>0.346154</td>\n",
       "    </tr>\n",
       "    <tr>\n",
       "      <td>U.S.A.</td>\n",
       "      <td>0.0</td>\n",
       "      <td>2</td>\n",
       "      <td>0.000000</td>\n",
       "    </tr>\n",
       "    <tr>\n",
       "      <td>West Indies</td>\n",
       "      <td>380.0</td>\n",
       "      <td>351</td>\n",
       "      <td>1.082621</td>\n",
       "    </tr>\n",
       "    <tr>\n",
       "      <td>Zimbabwe</td>\n",
       "      <td>129.0</td>\n",
       "      <td>345</td>\n",
       "      <td>0.373913</td>\n",
       "    </tr>\n",
       "  </tbody>\n",
       "</table>\n",
       "</div>"
      ],
      "text/plain": [
       "                Won  Lost  Win/Loss Ratio\n",
       "Afghanistan    42.0    39        1.076923\n",
       "Africa XI       1.0     4        0.250000\n",
       "Asia XI         4.0     2        2.000000\n",
       "Australia     555.0   307        1.807818\n",
       "Bangladesh    105.0   223        0.470852\n",
       "Bermuda         7.0    28        0.250000\n",
       "Canada         17.0    58        0.293103\n",
       "East Africa     0.0     3        0.000000\n",
       "England       343.0   321        1.068536\n",
       "Hong Kong       6.0    11        0.545455\n",
       "ICC World XI    1.0     3        0.333333\n",
       "India         475.0   405        1.172840\n",
       "Ireland        51.0    62        0.822581\n",
       "Kenya          42.0   107        0.392523\n",
       "Namibia         0.0     6        0.000000\n",
       "Netherlands    28.0    44        0.636364\n",
       "New Zealand   324.0   362        0.895028\n",
       "P.N.G.          5.0     5        1.000000\n",
       "Pakistan      466.0   388        1.201031\n",
       "Scotland       31.0    56        0.553571\n",
       "South Africa  361.0   200        1.805000\n",
       "Sri Lanka     371.0   395        0.939241\n",
       "U.A.E.          9.0    26        0.346154\n",
       "U.S.A.          0.0     2        0.000000\n",
       "West Indies   380.0   351        1.082621\n",
       "Zimbabwe      129.0   345        0.373913"
      ]
     },
     "execution_count": 11,
     "metadata": {},
     "output_type": "execute_result"
    }
   ],
   "source": [
    "# Now we are calculating some W/L ratios per team....\n",
    "odi_cricket[\"Loser\"]=np.where(odi_cricket.Winner==odi_cricket[\"Team 2\"],odi_cricket[\"Team 1\"],odi_cricket[\"Team 2\"])\n",
    "winners=odi_cricket.groupby(\"Winner\").size().rename(\"Won\")\n",
    "losers=odi_cricket.groupby(\"Loser\").size().rename(\"Lost\")\n",
    "comb2=pd.concat([winners,losers],axis=1).fillna(0)\n",
    "comb2[\"Win/Loss Ratio\"]=comb2[\"Won\"]/comb2[\"Lost\"]\n",
    "comb2.sort_values(\"Win/Loss Ratio\",ascending=False)\n",
    "comb2"
   ]
  },
  {
   "cell_type": "code",
   "execution_count": 21,
   "metadata": {},
   "outputs": [
    {
     "data": {
      "text/plain": [
       "<matplotlib.lines.Line2D at 0xb3926b0>"
      ]
     },
     "execution_count": 21,
     "metadata": {},
     "output_type": "execute_result"
    },
    {
     "data": {
      "image/png": "[encoded data removed]",
      "text/plain": [
       "<Figure size 432x288 with 1 Axes>"
      ]
     },
     "metadata": {
      "needs_background": "light"
     },
     "output_type": "display_data"
    }
   ],
   "source": [
    "# Creating Win/loss Chart.....\n",
    "%matplotlib inline\n",
    "sns.barplot(x=comb2.index,y=comb2[\"Win/Loss Ratio\"])\n",
    "plt.xticks(rotation=\"vertical\")\n",
    "plt.axhline(1,color=\"black\",linewidth=1)"
   ]
  },
  {
   "cell_type": "code",
   "execution_count": 14,
   "metadata": {},
   "outputs": [
    {
     "name": "stderr",
     "output_type": "stream",
     "text": [
      "C:\\Users\\tarun\\Anaconda3\\lib\\site-packages\\ipykernel_launcher.py:5: FutureWarning: Sorting because non-concatenation axis is not aligned. A future version\n",
      "of pandas will change to not sort by default.\n",
      "\n",
      "To accept the future behavior, pass 'sort=False'.\n",
      "\n",
      "To retain the current behavior and silence the warning, pass 'sort=True'.\n",
      "\n",
      "  \"\"\"\n"
     ]
    },
    {
     "data": {
      "text/html": [
       "<div>\n",
       "<style scoped>\n",
       "    .dataframe tbody tr th:only-of-type {\n",
       "        vertical-align: middle;\n",
       "    }\n",
       "\n",
       "    .dataframe tbody tr th {\n",
       "        vertical-align: top;\n",
       "    }\n",
       "\n",
       "    .dataframe thead th {\n",
       "        text-align: right;\n",
       "    }\n",
       "</style>\n",
       "<table border=\"1\" class=\"dataframe\">\n",
       "  <thead>\n",
       "    <tr style=\"text-align: right;\">\n",
       "      <th></th>\n",
       "      <th>Wins</th>\n",
       "      <th>Losses</th>\n",
       "      <th>Win/loss</th>\n",
       "    </tr>\n",
       "  </thead>\n",
       "  <tbody>\n",
       "    <tr>\n",
       "      <td>Sri Lanka</td>\n",
       "      <td>88</td>\n",
       "      <td>54.0</td>\n",
       "      <td>1.629630</td>\n",
       "    </tr>\n",
       "    <tr>\n",
       "      <td>West Indies</td>\n",
       "      <td>56</td>\n",
       "      <td>61.0</td>\n",
       "      <td>0.918033</td>\n",
       "    </tr>\n",
       "    <tr>\n",
       "      <td>England</td>\n",
       "      <td>52</td>\n",
       "      <td>39.0</td>\n",
       "      <td>1.333333</td>\n",
       "    </tr>\n",
       "    <tr>\n",
       "      <td>New Zealand</td>\n",
       "      <td>51</td>\n",
       "      <td>44.0</td>\n",
       "      <td>1.159091</td>\n",
       "    </tr>\n",
       "    <tr>\n",
       "      <td>Pakistan</td>\n",
       "      <td>51</td>\n",
       "      <td>72.0</td>\n",
       "      <td>0.708333</td>\n",
       "    </tr>\n",
       "    <tr>\n",
       "      <td>Zimbabwe</td>\n",
       "      <td>51</td>\n",
       "      <td>10.0</td>\n",
       "      <td>5.100000</td>\n",
       "    </tr>\n",
       "    <tr>\n",
       "      <td>Australia</td>\n",
       "      <td>45</td>\n",
       "      <td>73.0</td>\n",
       "      <td>0.616438</td>\n",
       "    </tr>\n",
       "    <tr>\n",
       "      <td>South Africa</td>\n",
       "      <td>29</td>\n",
       "      <td>45.0</td>\n",
       "      <td>0.644444</td>\n",
       "    </tr>\n",
       "    <tr>\n",
       "      <td>Bangladesh</td>\n",
       "      <td>27</td>\n",
       "      <td>5.0</td>\n",
       "      <td>5.400000</td>\n",
       "    </tr>\n",
       "  </tbody>\n",
       "</table>\n",
       "</div>"
      ],
      "text/plain": [
       "              Wins  Losses  Win/loss\n",
       "Sri Lanka       88    54.0  1.629630\n",
       "West Indies     56    61.0  0.918033\n",
       "England         52    39.0  1.333333\n",
       "New Zealand     51    44.0  1.159091\n",
       "Pakistan        51    72.0  0.708333\n",
       "Zimbabwe        51    10.0  5.100000\n",
       "Australia       45    73.0  0.616438\n",
       "South Africa    29    45.0  0.644444\n",
       "Bangladesh      27     5.0  5.400000"
      ]
     },
     "execution_count": 14,
     "metadata": {},
     "output_type": "execute_result"
    }
   ],
   "source": [
    "#Now  we are Analyse matches for India by others teams..\n",
    "ind_matches=odi_cricket[(odi_cricket[\"Team 1\"]==\"India\") | (odi_cricket[\"Team 2\"]==\"India\")]\n",
    "Win=ind_matches.groupby(\"Winner\").size().rename(\"Losses\")\n",
    "Lost=ind_matches.groupby(\"Loser\").size().rename(\"Wins\")\n",
    "#Concat the two\n",
    "comb3=pd.concat([Lost,Win],axis=1).fillna(0)\n",
    "comb3=comb3.nlargest(10,\"Wins\")\n",
    "comb3[\"Win/loss\"]=comb3[\"Wins\"]/comb3[\"Losses\"]\n",
    "comb3=comb3.drop([\"India\"])\n",
    "comb3"
   ]
  },
  {
   "cell_type": "code",
   "execution_count": 15,
   "metadata": {},
   "outputs": [
    {
     "data": {
      "image/png": "[encoded data removed]",
      "text/plain": [
       "<Figure size 432x288 with 1 Axes>"
      ]
     },
     "metadata": {
      "needs_background": "light"
     },
     "output_type": "display_data"
    }
   ],
   "source": [
    "%matplotlib inline\n",
    "ax=sns.barplot(x=comb3.index,y=comb3[\"Win/loss\"])\n",
    "\n",
    "plt.xticks(rotation=\"vertical\")\n",
    "#Adding annotation\n",
    "for p in ax.patches:\n",
    " # get the height of each bar\n",
    " height = p.get_height()\n",
    " # adding text to each bar\n",
    " ax.text(x = p.get_x()+(p.get_width()/2),y=height+0.1,\n",
    " s = \"{:.2f}\".format(height),\n",
    " ha = \"center\") \n",
    "\n",
    "    "
   ]
  },
  {
   "cell_type": "code",
   "execution_count": 16,
   "metadata": {},
   "outputs": [
    {
     "data": {
      "text/html": [
       "<div>\n",
       "<style scoped>\n",
       "    .dataframe tbody tr th:only-of-type {\n",
       "        vertical-align: middle;\n",
       "    }\n",
       "\n",
       "    .dataframe tbody tr th {\n",
       "        vertical-align: top;\n",
       "    }\n",
       "\n",
       "    .dataframe thead th {\n",
       "        text-align: right;\n",
       "    }\n",
       "</style>\n",
       "<table border=\"1\" class=\"dataframe\">\n",
       "  <thead>\n",
       "    <tr style=\"text-align: right;\">\n",
       "      <th></th>\n",
       "      <th>Scorecard</th>\n",
       "      <th>Team 1</th>\n",
       "      <th>Team 2</th>\n",
       "      <th>Winner</th>\n",
       "      <th>Margin</th>\n",
       "      <th>Ground</th>\n",
       "      <th>Match Date</th>\n",
       "      <th>Loser</th>\n",
       "    </tr>\n",
       "  </thead>\n",
       "  <tbody>\n",
       "    <tr>\n",
       "      <td>0</td>\n",
       "      <td>ODI # 1</td>\n",
       "      <td>Australia</td>\n",
       "      <td>England</td>\n",
       "      <td>Australia</td>\n",
       "      <td>5 wickets</td>\n",
       "      <td>Melbourne</td>\n",
       "      <td>Jan 5, 1971</td>\n",
       "      <td>England</td>\n",
       "    </tr>\n",
       "    <tr>\n",
       "      <td>1</td>\n",
       "      <td>ODI # 2</td>\n",
       "      <td>England</td>\n",
       "      <td>Australia</td>\n",
       "      <td>England</td>\n",
       "      <td>6 wickets</td>\n",
       "      <td>Manchester</td>\n",
       "      <td>Aug 24, 1972</td>\n",
       "      <td>Australia</td>\n",
       "    </tr>\n",
       "    <tr>\n",
       "      <td>2</td>\n",
       "      <td>ODI # 3</td>\n",
       "      <td>England</td>\n",
       "      <td>Australia</td>\n",
       "      <td>Australia</td>\n",
       "      <td>5 wickets</td>\n",
       "      <td>Lord's</td>\n",
       "      <td>Aug 26, 1972</td>\n",
       "      <td>England</td>\n",
       "    </tr>\n",
       "    <tr>\n",
       "      <td>3</td>\n",
       "      <td>ODI # 4</td>\n",
       "      <td>England</td>\n",
       "      <td>Australia</td>\n",
       "      <td>England</td>\n",
       "      <td>2 wickets</td>\n",
       "      <td>Birmingham</td>\n",
       "      <td>Aug 28, 1972</td>\n",
       "      <td>Australia</td>\n",
       "    </tr>\n",
       "    <tr>\n",
       "      <td>4</td>\n",
       "      <td>ODI # 5</td>\n",
       "      <td>New Zealand</td>\n",
       "      <td>Pakistan</td>\n",
       "      <td>New Zealand</td>\n",
       "      <td>22 runs</td>\n",
       "      <td>Christchurch</td>\n",
       "      <td>Feb 11, 1973</td>\n",
       "      <td>Pakistan</td>\n",
       "    </tr>\n",
       "  </tbody>\n",
       "</table>\n",
       "</div>"
      ],
      "text/plain": [
       "  Scorecard       Team 1     Team 2       Winner     Margin        Ground  \\\n",
       "0   ODI # 1    Australia    England    Australia  5 wickets     Melbourne   \n",
       "1   ODI # 2      England  Australia      England  6 wickets    Manchester   \n",
       "2   ODI # 3      England  Australia    Australia  5 wickets        Lord's   \n",
       "3   ODI # 4      England  Australia      England  2 wickets    Birmingham   \n",
       "4   ODI # 5  New Zealand   Pakistan  New Zealand    22 runs  Christchurch   \n",
       "\n",
       "     Match Date      Loser  \n",
       "0   Jan 5, 1971    England  \n",
       "1  Aug 24, 1972  Australia  \n",
       "2  Aug 26, 1972    England  \n",
       "3  Aug 28, 1972  Australia  \n",
       "4  Feb 11, 1973   Pakistan  "
      ]
     },
     "execution_count": 16,
     "metadata": {},
     "output_type": "execute_result"
    }
   ],
   "source": [
    "# Now we are looking how many teams have won batting first & vice versa....\n",
    "odi_cricket.head()"
   ]
  },
  {
   "cell_type": "code",
   "execution_count": 17,
   "metadata": {},
   "outputs": [
    {
     "data": {
      "text/plain": [
       "False    1908\n",
       "True     1845\n",
       "Name: Margin, dtype: int64"
      ]
     },
     "execution_count": 17,
     "metadata": {},
     "output_type": "execute_result"
    }
   ],
   "source": [
    "bat_first=odi_cricket.Margin.str.contains(\"wickets\")\n",
    "bat_first.value_counts()"
   ]
  },
  {
   "cell_type": "markdown",
   "metadata": {},
   "source": [
    "# A higher False value indicates that teams that have batted first have won on more occasions than teams that have fielded first."
   ]
  },
  {
   "cell_type": "code",
   "execution_count": 18,
   "metadata": {},
   "outputs": [
    {
     "data": {
      "text/html": [
       "<div>\n",
       "<style scoped>\n",
       "    .dataframe tbody tr th:only-of-type {\n",
       "        vertical-align: middle;\n",
       "    }\n",
       "\n",
       "    .dataframe tbody tr th {\n",
       "        vertical-align: top;\n",
       "    }\n",
       "\n",
       "    .dataframe thead th {\n",
       "        text-align: right;\n",
       "    }\n",
       "</style>\n",
       "<table border=\"1\" class=\"dataframe\">\n",
       "  <thead>\n",
       "    <tr style=\"text-align: right;\">\n",
       "      <th></th>\n",
       "      <th>Scorecard</th>\n",
       "      <th>Team 1</th>\n",
       "      <th>Team 2</th>\n",
       "      <th>Winner</th>\n",
       "      <th>Margin</th>\n",
       "      <th>Ground</th>\n",
       "      <th>Match Date</th>\n",
       "      <th>Loser</th>\n",
       "      <th>Year</th>\n",
       "    </tr>\n",
       "  </thead>\n",
       "  <tbody>\n",
       "    <tr>\n",
       "      <td>0</td>\n",
       "      <td>ODI # 1</td>\n",
       "      <td>Australia</td>\n",
       "      <td>England</td>\n",
       "      <td>Australia</td>\n",
       "      <td>5 wickets</td>\n",
       "      <td>Melbourne</td>\n",
       "      <td>Jan 5, 1971</td>\n",
       "      <td>England</td>\n",
       "      <td>1971</td>\n",
       "    </tr>\n",
       "    <tr>\n",
       "      <td>1</td>\n",
       "      <td>ODI # 2</td>\n",
       "      <td>England</td>\n",
       "      <td>Australia</td>\n",
       "      <td>England</td>\n",
       "      <td>6 wickets</td>\n",
       "      <td>Manchester</td>\n",
       "      <td>Aug 24, 1972</td>\n",
       "      <td>Australia</td>\n",
       "      <td>1972</td>\n",
       "    </tr>\n",
       "    <tr>\n",
       "      <td>2</td>\n",
       "      <td>ODI # 3</td>\n",
       "      <td>England</td>\n",
       "      <td>Australia</td>\n",
       "      <td>Australia</td>\n",
       "      <td>5 wickets</td>\n",
       "      <td>Lord's</td>\n",
       "      <td>Aug 26, 1972</td>\n",
       "      <td>England</td>\n",
       "      <td>1972</td>\n",
       "    </tr>\n",
       "    <tr>\n",
       "      <td>3</td>\n",
       "      <td>ODI # 4</td>\n",
       "      <td>England</td>\n",
       "      <td>Australia</td>\n",
       "      <td>England</td>\n",
       "      <td>2 wickets</td>\n",
       "      <td>Birmingham</td>\n",
       "      <td>Aug 28, 1972</td>\n",
       "      <td>Australia</td>\n",
       "      <td>1972</td>\n",
       "    </tr>\n",
       "    <tr>\n",
       "      <td>4</td>\n",
       "      <td>ODI # 5</td>\n",
       "      <td>New Zealand</td>\n",
       "      <td>Pakistan</td>\n",
       "      <td>New Zealand</td>\n",
       "      <td>22 runs</td>\n",
       "      <td>Christchurch</td>\n",
       "      <td>Feb 11, 1973</td>\n",
       "      <td>Pakistan</td>\n",
       "      <td>1973</td>\n",
       "    </tr>\n",
       "    <tr>\n",
       "      <td>...</td>\n",
       "      <td>...</td>\n",
       "      <td>...</td>\n",
       "      <td>...</td>\n",
       "      <td>...</td>\n",
       "      <td>...</td>\n",
       "      <td>...</td>\n",
       "      <td>...</td>\n",
       "      <td>...</td>\n",
       "      <td>...</td>\n",
       "    </tr>\n",
       "    <tr>\n",
       "      <td>3927</td>\n",
       "      <td>ODI # 3928</td>\n",
       "      <td>India</td>\n",
       "      <td>New Zealand</td>\n",
       "      <td>New Zealand</td>\n",
       "      <td>6 wickets</td>\n",
       "      <td>Mumbai</td>\n",
       "      <td>Oct 22, 2017</td>\n",
       "      <td>India</td>\n",
       "      <td>2017</td>\n",
       "    </tr>\n",
       "    <tr>\n",
       "      <td>3928</td>\n",
       "      <td>ODI # 3929</td>\n",
       "      <td>South Africa</td>\n",
       "      <td>Bangladesh</td>\n",
       "      <td>South Africa</td>\n",
       "      <td>200 runs</td>\n",
       "      <td>East London</td>\n",
       "      <td>Oct 22, 2017</td>\n",
       "      <td>Bangladesh</td>\n",
       "      <td>2017</td>\n",
       "    </tr>\n",
       "    <tr>\n",
       "      <td>3929</td>\n",
       "      <td>ODI # 3930</td>\n",
       "      <td>Pakistan</td>\n",
       "      <td>Sri Lanka</td>\n",
       "      <td>Pakistan</td>\n",
       "      <td>9 wickets</td>\n",
       "      <td>Sharjah</td>\n",
       "      <td>Oct 23, 2017</td>\n",
       "      <td>Sri Lanka</td>\n",
       "      <td>2017</td>\n",
       "    </tr>\n",
       "    <tr>\n",
       "      <td>3930</td>\n",
       "      <td>ODI # 3931</td>\n",
       "      <td>India</td>\n",
       "      <td>New Zealand</td>\n",
       "      <td>India</td>\n",
       "      <td>6 wickets</td>\n",
       "      <td>Pune</td>\n",
       "      <td>Oct 25, 2017</td>\n",
       "      <td>New Zealand</td>\n",
       "      <td>2017</td>\n",
       "    </tr>\n",
       "    <tr>\n",
       "      <td>3931</td>\n",
       "      <td>ODI # 3932</td>\n",
       "      <td>India</td>\n",
       "      <td>New Zealand</td>\n",
       "      <td>India</td>\n",
       "      <td>6 runs</td>\n",
       "      <td>Kanpur</td>\n",
       "      <td>Oct 29, 2017</td>\n",
       "      <td>New Zealand</td>\n",
       "      <td>2017</td>\n",
       "    </tr>\n",
       "  </tbody>\n",
       "</table>\n",
       "<p>3753 rows × 9 columns</p>\n",
       "</div>"
      ],
      "text/plain": [
       "       Scorecard        Team 1       Team 2        Winner     Margin  \\\n",
       "0        ODI # 1     Australia      England     Australia  5 wickets   \n",
       "1        ODI # 2       England    Australia       England  6 wickets   \n",
       "2        ODI # 3       England    Australia     Australia  5 wickets   \n",
       "3        ODI # 4       England    Australia       England  2 wickets   \n",
       "4        ODI # 5   New Zealand     Pakistan   New Zealand    22 runs   \n",
       "...          ...           ...          ...           ...        ...   \n",
       "3927  ODI # 3928         India  New Zealand   New Zealand  6 wickets   \n",
       "3928  ODI # 3929  South Africa   Bangladesh  South Africa   200 runs   \n",
       "3929  ODI # 3930      Pakistan    Sri Lanka      Pakistan  9 wickets   \n",
       "3930  ODI # 3931         India  New Zealand         India  6 wickets   \n",
       "3931  ODI # 3932         India  New Zealand         India     6 runs   \n",
       "\n",
       "            Ground    Match Date        Loser  Year  \n",
       "0        Melbourne   Jan 5, 1971      England  1971  \n",
       "1       Manchester  Aug 24, 1972    Australia  1972  \n",
       "2           Lord's  Aug 26, 1972      England  1972  \n",
       "3       Birmingham  Aug 28, 1972    Australia  1972  \n",
       "4     Christchurch  Feb 11, 1973     Pakistan  1973  \n",
       "...            ...           ...          ...   ...  \n",
       "3927        Mumbai  Oct 22, 2017        India  2017  \n",
       "3928   East London  Oct 22, 2017   Bangladesh  2017  \n",
       "3929       Sharjah  Oct 23, 2017    Sri Lanka  2017  \n",
       "3930          Pune  Oct 25, 2017  New Zealand  2017  \n",
       "3931        Kanpur  Oct 29, 2017  New Zealand  2017  \n",
       "\n",
       "[3753 rows x 9 columns]"
      ]
     },
     "execution_count": 18,
     "metadata": {},
     "output_type": "execute_result"
    }
   ],
   "source": [
    "#Now we are looking time series analysis..\n",
    "odi_cricket[\"Year\"]=odi_cricket[\"Match Date\"].str.strip().str[-4:]\n",
    "odi_cricket"
   ]
  },
  {
   "cell_type": "code",
   "execution_count": 20,
   "metadata": {},
   "outputs": [
    {
     "data": {
      "text/plain": [
       "Text(0, 0.5, 'Number of Matches')"
      ]
     },
     "execution_count": 20,
     "metadata": {},
     "output_type": "execute_result"
    },
    {
     "data": {
      "image/png": "[encoded data removed]",
      "text/plain": [
       "<Figure size 432x288 with 1 Axes>"
      ]
     },
     "metadata": {
      "needs_background": "light"
     },
     "output_type": "display_data"
    }
   ],
   "source": [
    "yeared=odi_cricket.groupby(\"Year\").size()\n",
    "yeared.plot(kind=\"line\",color=\"red\",linewidth=4)\n",
    "plt.title(\"ODI Cricket Matches by Year\")\n",
    "plt.ylabel(\"Number of Matches\")"
   ]
  },
  {
   "cell_type": "code",
   "execution_count": null,
   "metadata": {},
   "outputs": [],
   "source": []
  }
 ],
 "metadata": {
  "kernelspec": {
   "display_name": "Python 3",
   "language": "python",
   "name": "python3"
  },
  "language_info": {
   "codemirror_mode": {
    "name": "ipython",
    "version": 3
   },
   "file_extension": ".py",
   "mimetype": "text/x-python",
   "name": "python",
   "nbconvert_exporter": "python",
   "pygments_lexer": "ipython3",
   "version": "3.7.4"
  }
 },
 "nbformat": 4,
 "nbformat_minor": 2
}
